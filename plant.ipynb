{
  "nbformat": 4,
  "nbformat_minor": 0,
  "metadata": {
    "colab": {
      "provenance": [],
      "gpuType": "T4",
      "authorship_tag": "ABX9TyM7lo7uKKvSRscQCMOSNm7Y",
      "include_colab_link": true
    },
    "kernelspec": {
      "name": "python3",
      "display_name": "Python 3"
    },
    "language_info": {
      "name": "python"
    },
    "accelerator": "GPU"
  },
  "cells": [
    {
      "cell_type": "markdown",
      "metadata": {
        "id": "view-in-github",
        "colab_type": "text"
      },
      "source": [
        "<a href=\"https://colab.research.google.com/github/mukulchaudhary959/temperature_convertor/blob/main/plant.ipynb\" target=\"_parent\"><img src=\"https://colab.research.google.com/assets/colab-badge.svg\" alt=\"Open In Colab\"/></a>"
      ]
    },
    {
      "cell_type": "code",
      "execution_count": 1,
      "metadata": {
        "colab": {
          "base_uri": "https://localhost:8080/"
        },
        "id": "tv2DM3KB6fie",
        "outputId": "19a3f9a1-df86-4d65-ad03-7c5c7ae43f1f"
      },
      "outputs": [
        {
          "output_type": "stream",
          "name": "stdout",
          "text": [
            "Mounted at /content/drive\n"
          ]
        }
      ],
      "source": [
        "from google.colab import drive\n",
        "drive.mount('/content/drive')"
      ]
    },
    {
      "cell_type": "code",
      "source": [
        "import tensorflow as tf"
      ],
      "metadata": {
        "id": "hdz0rS-_6olk"
      },
      "execution_count": 2,
      "outputs": []
    },
    {
      "cell_type": "code",
      "source": [
        "dataset = tf.keras.preprocessing.image_dataset_from_directory(\n",
        "    \"/content/drive/My Drive/Medicinal plant dataset\",\n",
        "    shuffle=True,\n",
        "    batch_size=32,\n",
        "    image_size=(299, 299),\n",
        ")\n",
        "\n",
        "labels = dataset.class_names\n",
        "labels"
      ],
      "metadata": {
        "colab": {
          "base_uri": "https://localhost:8080/"
        },
        "id": "pkxd7BUu6xJO",
        "outputId": "563cbc1f-79c5-4dff-dbd5-90628e7932d4"
      },
      "execution_count": 3,
      "outputs": [
        {
          "output_type": "stream",
          "name": "stdout",
          "text": [
            "Found 5945 files belonging to 40 classes.\n"
          ]
        },
        {
          "output_type": "execute_result",
          "data": {
            "text/plain": [
              "['Aloevera',\n",
              " 'Amla',\n",
              " 'Amruta_Balli',\n",
              " 'Arali',\n",
              " 'Ashoka',\n",
              " 'Ashwagandha',\n",
              " 'Avacado',\n",
              " 'Bamboo',\n",
              " 'Basale',\n",
              " 'Betel',\n",
              " 'Betel_Nut',\n",
              " 'Brahmi',\n",
              " 'Castor',\n",
              " 'Curry_Leaf',\n",
              " 'Doddapatre',\n",
              " 'Ekka',\n",
              " 'Ganike',\n",
              " 'Gauva',\n",
              " 'Geranium',\n",
              " 'Henna',\n",
              " 'Hibiscus',\n",
              " 'Honge',\n",
              " 'Insulin',\n",
              " 'Jasmine',\n",
              " 'Lemon',\n",
              " 'Lemon_grass',\n",
              " 'Mango',\n",
              " 'Mint',\n",
              " 'Nagadali',\n",
              " 'Neem',\n",
              " 'Nithyapushpa',\n",
              " 'Nooni',\n",
              " 'Pappaya',\n",
              " 'Pepper',\n",
              " 'Pomegranate',\n",
              " 'Raktachandini',\n",
              " 'Rose',\n",
              " 'Sapota',\n",
              " 'Tulasi',\n",
              " 'Wood_sorel']"
            ]
          },
          "metadata": {},
          "execution_count": 3
        }
      ]
    },
    {
      "cell_type": "code",
      "source": [
        "import numpy as np\n",
        "\n",
        "for image_batch, labels_batch in dataset.take(1):\n",
        "    print(image_batch.shape)\n",
        "    print(labels_batch.numpy())\n",
        "    break"
      ],
      "metadata": {
        "colab": {
          "base_uri": "https://localhost:8080/"
        },
        "id": "JJaHFifj6zrK",
        "outputId": "2bbd7a3f-1b5b-42d4-c9ee-9c1ea3d95f39"
      },
      "execution_count": 4,
      "outputs": [
        {
          "output_type": "stream",
          "name": "stdout",
          "text": [
            "(32, 299, 299, 3)\n",
            "[16  2 24 37 30 13 10 21  3 32 34 35  9 37 14 22  0 26 25 25 26 25  4 18\n",
            " 10 10 11 22 21 13 30  3]\n"
          ]
        }
      ]
    },
    {
      "cell_type": "code",
      "source": [
        "train_size = int(0.8 * len(dataset))\n",
        "test_size = int(0.2 * len(dataset))\n",
        "train_size, test_size"
      ],
      "metadata": {
        "colab": {
          "base_uri": "https://localhost:8080/"
        },
        "id": "62Fl-6P864zC",
        "outputId": "2b8c16f1-de9c-4983-f78d-c20f854cc02e"
      },
      "execution_count": 5,
      "outputs": [
        {
          "output_type": "execute_result",
          "data": {
            "text/plain": [
              "(148, 37)"
            ]
          },
          "metadata": {},
          "execution_count": 5
        }
      ]
    },
    {
      "cell_type": "code",
      "source": [
        "def get_dataset_partisions_tf(ds, train_split=0.8, test_split=0.2, shuffle=True, shuffle_size=10000):\n",
        "    if shuffle:\n",
        "        ds = ds.shuffle(shuffle_size, seed=12)\n",
        "    train_size = int(train_split * len(ds))\n",
        "    test_size = int(test_split * len(ds))\n",
        "    train_ds = ds.take(train_size)\n",
        "    test_ds = ds.skip(train_size)\n",
        "    val_ds = test_ds.skip(test_size)\n",
        "    test_ds = test_ds.take(test_size)\n",
        "    return train_ds, test_ds, val_ds"
      ],
      "metadata": {
        "id": "a-fCY9O67Qmw"
      },
      "execution_count": 6,
      "outputs": []
    },
    {
      "cell_type": "code",
      "source": [
        "train_ds, test_ds, val_ds = get_dataset_partisions_tf(dataset)\n",
        "len(train_ds), len(test_ds), len(val_ds)"
      ],
      "metadata": {
        "colab": {
          "base_uri": "https://localhost:8080/"
        },
        "id": "h3Ve4U1_7TNG",
        "outputId": "00de8a0f-adbf-4340-cca6-b504a3ef3dc2"
      },
      "execution_count": 7,
      "outputs": [
        {
          "output_type": "execute_result",
          "data": {
            "text/plain": [
              "(148, 37, 1)"
            ]
          },
          "metadata": {},
          "execution_count": 7
        }
      ]
    },
    {
      "cell_type": "code",
      "source": [
        "resize_and_rescale = tf.keras.Sequential([\n",
        "    tf.keras.layers.experimental.preprocessing.Resizing(299, 299),\n",
        "    tf.keras.layers.experimental.preprocessing.Rescaling(1./255)\n",
        "])"
      ],
      "metadata": {
        "id": "hASOjR3X7VnH"
      },
      "execution_count": 8,
      "outputs": []
    },
    {
      "cell_type": "code",
      "source": [
        "# train using Xception\n",
        "base_model = tf.keras.applications.InceptionV3(\n",
        "    weights='imagenet',\n",
        "    input_shape=(299, 299, 3),\n",
        "    include_top=False,\n",
        "    pooling='avg',\n",
        "    classifier_activation='softmax',\n",
        "    classes=len(labels)\n",
        ")"
      ],
      "metadata": {
        "colab": {
          "base_uri": "https://localhost:8080/"
        },
        "id": "8RTuQmdh7X3D",
        "outputId": "789847f8-53d3-40f3-cd80-b05c8ec58fa9"
      },
      "execution_count": 9,
      "outputs": [
        {
          "output_type": "stream",
          "name": "stdout",
          "text": [
            "Downloading data from https://storage.googleapis.com/tensorflow/keras-applications/inception_v3/inception_v3_weights_tf_dim_ordering_tf_kernels_notop.h5\n",
            "87910968/87910968 [==============================] - 5s 0us/step\n"
          ]
        }
      ]
    },
    {
      "cell_type": "code",
      "source": [
        "base_model.trainable = False\n",
        "\n",
        "inputs = tf.keras.Input(shape=(299, 299, 3))\n",
        "x = resize_and_rescale(inputs)\n",
        "x = base_model(x, training=False)\n",
        "x = tf.keras.layers.Dense(128, activation='relu')(x)\n",
        "x = tf.keras.layers.Dropout(0.2)(x)\n",
        "outputs = tf.keras.layers.Dense(len(labels), activation='softmax')(x)\n",
        "model = tf.keras.Model(inputs, outputs)\n",
        "\n",
        "model.compile(\n",
        "    optimizer='adam',\n",
        "    loss='sparse_categorical_crossentropy',\n",
        "    metrics=['accuracy']\n",
        ")\n",
        "\n",
        "model.summary()\n",
        "\n",
        "history = model.fit(\n",
        "    train_ds,\n",
        "    validation_data=val_ds,\n",
        "    batch_size=32,\n",
        "    epochs=20\n",
        ")"
      ],
      "metadata": {
        "colab": {
          "base_uri": "https://localhost:8080/"
        },
        "id": "gKhYbNUR7aIz",
        "outputId": "2c813ef2-af6d-4fc6-b42e-9451014fb21f"
      },
      "execution_count": 10,
      "outputs": [
        {
          "output_type": "stream",
          "name": "stdout",
          "text": [
            "Model: \"model\"\n",
            "_________________________________________________________________\n",
            " Layer (type)                Output Shape              Param #   \n",
            "=================================================================\n",
            " input_2 (InputLayer)        [(None, 299, 299, 3)]     0         \n",
            "                                                                 \n",
            " sequential (Sequential)     (None, 299, 299, 3)       0         \n",
            "                                                                 \n",
            " inception_v3 (Functional)   (None, 2048)              21802784  \n",
            "                                                                 \n",
            " dense (Dense)               (None, 128)               262272    \n",
            "                                                                 \n",
            " dropout (Dropout)           (None, 128)               0         \n",
            "                                                                 \n",
            " dense_1 (Dense)             (None, 40)                5160      \n",
            "                                                                 \n",
            "=================================================================\n",
            "Total params: 22070216 (84.19 MB)\n",
            "Trainable params: 267432 (1.02 MB)\n",
            "Non-trainable params: 21802784 (83.17 MB)\n",
            "_________________________________________________________________\n",
            "Epoch 1/20\n",
            "148/148 [==============================] - 1824s 275ms/step - loss: 2.7298 - accuracy: 0.2990 - val_loss: 1.5289 - val_accuracy: 0.6875\n",
            "Epoch 2/20\n",
            "148/148 [==============================] - 56s 261ms/step - loss: 1.4895 - accuracy: 0.6047 - val_loss: 0.9377 - val_accuracy: 0.7500\n",
            "Epoch 3/20\n",
            "148/148 [==============================] - 54s 244ms/step - loss: 1.0777 - accuracy: 0.7057 - val_loss: 0.8118 - val_accuracy: 0.8125\n",
            "Epoch 4/20\n",
            "148/148 [==============================] - 56s 261ms/step - loss: 0.8475 - accuracy: 0.7672 - val_loss: 0.5999 - val_accuracy: 0.8438\n",
            "Epoch 5/20\n",
            "148/148 [==============================] - 56s 262ms/step - loss: 0.6812 - accuracy: 0.8140 - val_loss: 0.5134 - val_accuracy: 0.9062\n",
            "Epoch 6/20\n",
            "148/148 [==============================] - 56s 263ms/step - loss: 0.6208 - accuracy: 0.8230 - val_loss: 0.4418 - val_accuracy: 0.9062\n",
            "Epoch 7/20\n",
            "148/148 [==============================] - 54s 245ms/step - loss: 0.5458 - accuracy: 0.8429 - val_loss: 0.2636 - val_accuracy: 0.9375\n",
            "Epoch 8/20\n",
            "148/148 [==============================] - 56s 261ms/step - loss: 0.4612 - accuracy: 0.8733 - val_loss: 0.1433 - val_accuracy: 1.0000\n",
            "Epoch 9/20\n",
            "148/148 [==============================] - 54s 243ms/step - loss: 0.4135 - accuracy: 0.8807 - val_loss: 0.2276 - val_accuracy: 0.9375\n",
            "Epoch 10/20\n",
            "148/148 [==============================] - 53s 243ms/step - loss: 0.3811 - accuracy: 0.8911 - val_loss: 0.2061 - val_accuracy: 0.9688\n",
            "Epoch 11/20\n",
            "148/148 [==============================] - 55s 249ms/step - loss: 0.3336 - accuracy: 0.9016 - val_loss: 0.0513 - val_accuracy: 1.0000\n",
            "Epoch 12/20\n",
            "148/148 [==============================] - 53s 243ms/step - loss: 0.3224 - accuracy: 0.9072 - val_loss: 0.1429 - val_accuracy: 0.9688\n",
            "Epoch 13/20\n",
            "148/148 [==============================] - 56s 262ms/step - loss: 0.2819 - accuracy: 0.9205 - val_loss: 0.1228 - val_accuracy: 1.0000\n",
            "Epoch 14/20\n",
            "148/148 [==============================] - 54s 243ms/step - loss: 0.2396 - accuracy: 0.9329 - val_loss: 0.1490 - val_accuracy: 0.9062\n",
            "Epoch 15/20\n",
            "148/148 [==============================] - 53s 244ms/step - loss: 0.2497 - accuracy: 0.9277 - val_loss: 0.0692 - val_accuracy: 1.0000\n",
            "Epoch 16/20\n",
            "148/148 [==============================] - 56s 253ms/step - loss: 0.2374 - accuracy: 0.9331 - val_loss: 0.0594 - val_accuracy: 1.0000\n",
            "Epoch 17/20\n",
            "148/148 [==============================] - 57s 261ms/step - loss: 0.2155 - accuracy: 0.9374 - val_loss: 0.0548 - val_accuracy: 1.0000\n",
            "Epoch 18/20\n",
            "148/148 [==============================] - 54s 243ms/step - loss: 0.1983 - accuracy: 0.9404 - val_loss: 0.0499 - val_accuracy: 1.0000\n",
            "Epoch 19/20\n",
            "148/148 [==============================] - 53s 242ms/step - loss: 0.1814 - accuracy: 0.9497 - val_loss: 0.0318 - val_accuracy: 1.0000\n",
            "Epoch 20/20\n",
            "148/148 [==============================] - 56s 261ms/step - loss: 0.1677 - accuracy: 0.9488 - val_loss: 0.0828 - val_accuracy: 1.0000\n"
          ]
        }
      ]
    },
    {
      "cell_type": "code",
      "source": [
        "model.evaluate(test_ds)"
      ],
      "metadata": {
        "colab": {
          "base_uri": "https://localhost:8080/"
        },
        "id": "_z1QbNS67hXh",
        "outputId": "5d0d47f8-a047-4723-b194-04fd6f5f477f"
      },
      "execution_count": 11,
      "outputs": [
        {
          "output_type": "stream",
          "name": "stdout",
          "text": [
            "37/37 [==============================] - 26s 119ms/step - loss: 0.0411 - accuracy: 0.9941\n"
          ]
        },
        {
          "output_type": "execute_result",
          "data": {
            "text/plain": [
              "[0.04105524718761444, 0.9940526485443115]"
            ]
          },
          "metadata": {},
          "execution_count": 11
        }
      ]
    },
    {
      "cell_type": "code",
      "source": [
        "import pickle as pkl\n",
        "pkl.dump(model,open('plant.pkl','wb'))"
      ],
      "metadata": {
        "id": "RR0b2b5oHNa2"
      },
      "execution_count": 12,
      "outputs": []
    },
    {
      "cell_type": "code",
      "source": [],
      "metadata": {
        "id": "nd-W44I9HYv8"
      },
      "execution_count": null,
      "outputs": []
    }
  ]
}